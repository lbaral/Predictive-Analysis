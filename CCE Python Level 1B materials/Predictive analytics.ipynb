{
 "cells": [
  {
   "cell_type": "markdown",
   "metadata": {},
   "source": [
    "Linear Regression"
   ]
  },
  {
   "cell_type": "code",
   "execution_count": 1,
   "metadata": {},
   "outputs": [],
   "source": [
    "import pandas as pd"
   ]
  },
  {
   "cell_type": "code",
   "execution_count": 112,
   "metadata": {},
   "outputs": [],
   "source": [
    "marketing = pd.read_excel('DirectMarketing.xlsx')"
   ]
  },
  {
   "cell_type": "code",
   "execution_count": 113,
   "metadata": {},
   "outputs": [
    {
     "data": {
      "text/html": [
       "<div>\n",
       "<style scoped>\n",
       "    .dataframe tbody tr th:only-of-type {\n",
       "        vertical-align: middle;\n",
       "    }\n",
       "\n",
       "    .dataframe tbody tr th {\n",
       "        vertical-align: top;\n",
       "    }\n",
       "\n",
       "    .dataframe thead th {\n",
       "        text-align: right;\n",
       "    }\n",
       "</style>\n",
       "<table border=\"1\" class=\"dataframe\">\n",
       "  <thead>\n",
       "    <tr style=\"text-align: right;\">\n",
       "      <th></th>\n",
       "      <th>Age</th>\n",
       "      <th>Gender</th>\n",
       "      <th>OwnHome</th>\n",
       "      <th>Married</th>\n",
       "      <th>Location</th>\n",
       "      <th>Salary</th>\n",
       "      <th>Children</th>\n",
       "      <th>History</th>\n",
       "      <th>Catalogs</th>\n",
       "      <th>AmountSpent</th>\n",
       "    </tr>\n",
       "  </thead>\n",
       "  <tbody>\n",
       "    <tr>\n",
       "      <th>0</th>\n",
       "      <td>Old</td>\n",
       "      <td>Female</td>\n",
       "      <td>Own</td>\n",
       "      <td>Single</td>\n",
       "      <td>Far</td>\n",
       "      <td>47500</td>\n",
       "      <td>0</td>\n",
       "      <td>High</td>\n",
       "      <td>6</td>\n",
       "      <td>755</td>\n",
       "    </tr>\n",
       "    <tr>\n",
       "      <th>1</th>\n",
       "      <td>Middle</td>\n",
       "      <td>Male</td>\n",
       "      <td>Rent</td>\n",
       "      <td>Single</td>\n",
       "      <td>Close</td>\n",
       "      <td>63600</td>\n",
       "      <td>0</td>\n",
       "      <td>High</td>\n",
       "      <td>6</td>\n",
       "      <td>1318</td>\n",
       "    </tr>\n",
       "    <tr>\n",
       "      <th>2</th>\n",
       "      <td>Young</td>\n",
       "      <td>Female</td>\n",
       "      <td>Rent</td>\n",
       "      <td>Single</td>\n",
       "      <td>Close</td>\n",
       "      <td>13500</td>\n",
       "      <td>0</td>\n",
       "      <td>Low</td>\n",
       "      <td>18</td>\n",
       "      <td>296</td>\n",
       "    </tr>\n",
       "    <tr>\n",
       "      <th>3</th>\n",
       "      <td>Middle</td>\n",
       "      <td>Male</td>\n",
       "      <td>Own</td>\n",
       "      <td>Married</td>\n",
       "      <td>Close</td>\n",
       "      <td>85600</td>\n",
       "      <td>1</td>\n",
       "      <td>High</td>\n",
       "      <td>18</td>\n",
       "      <td>2436</td>\n",
       "    </tr>\n",
       "    <tr>\n",
       "      <th>4</th>\n",
       "      <td>Middle</td>\n",
       "      <td>Female</td>\n",
       "      <td>Own</td>\n",
       "      <td>Single</td>\n",
       "      <td>Close</td>\n",
       "      <td>68400</td>\n",
       "      <td>0</td>\n",
       "      <td>High</td>\n",
       "      <td>12</td>\n",
       "      <td>1304</td>\n",
       "    </tr>\n",
       "  </tbody>\n",
       "</table>\n",
       "</div>"
      ],
      "text/plain": [
       "      Age  Gender OwnHome  Married Location  Salary  Children History  \\\n",
       "0     Old  Female     Own   Single      Far   47500         0    High   \n",
       "1  Middle    Male    Rent   Single    Close   63600         0    High   \n",
       "2   Young  Female    Rent   Single    Close   13500         0     Low   \n",
       "3  Middle    Male     Own  Married    Close   85600         1    High   \n",
       "4  Middle  Female     Own   Single    Close   68400         0    High   \n",
       "\n",
       "   Catalogs  AmountSpent  \n",
       "0         6          755  \n",
       "1         6         1318  \n",
       "2        18          296  \n",
       "3        18         2436  \n",
       "4        12         1304  "
      ]
     },
     "execution_count": 113,
     "metadata": {},
     "output_type": "execute_result"
    }
   ],
   "source": [
    "marketing.head()"
   ]
  },
  {
   "cell_type": "code",
   "execution_count": 117,
   "metadata": {},
   "outputs": [],
   "source": [
    "marketing2 = pd.get_dummies(marketing, drop_first = True)"
   ]
  },
  {
   "cell_type": "code",
   "execution_count": 118,
   "metadata": {},
   "outputs": [
    {
     "data": {
      "text/html": [
       "<div>\n",
       "<style scoped>\n",
       "    .dataframe tbody tr th:only-of-type {\n",
       "        vertical-align: middle;\n",
       "    }\n",
       "\n",
       "    .dataframe tbody tr th {\n",
       "        vertical-align: top;\n",
       "    }\n",
       "\n",
       "    .dataframe thead th {\n",
       "        text-align: right;\n",
       "    }\n",
       "</style>\n",
       "<table border=\"1\" class=\"dataframe\">\n",
       "  <thead>\n",
       "    <tr style=\"text-align: right;\">\n",
       "      <th></th>\n",
       "      <th>Salary</th>\n",
       "      <th>Children</th>\n",
       "      <th>Catalogs</th>\n",
       "      <th>AmountSpent</th>\n",
       "      <th>Age_Old</th>\n",
       "      <th>Age_Young</th>\n",
       "      <th>Gender_Male</th>\n",
       "      <th>OwnHome_Rent</th>\n",
       "      <th>Married_Single</th>\n",
       "      <th>Location_Far</th>\n",
       "      <th>History_Low</th>\n",
       "      <th>History_Medium</th>\n",
       "    </tr>\n",
       "  </thead>\n",
       "  <tbody>\n",
       "    <tr>\n",
       "      <th>0</th>\n",
       "      <td>47500</td>\n",
       "      <td>0</td>\n",
       "      <td>6</td>\n",
       "      <td>755</td>\n",
       "      <td>1</td>\n",
       "      <td>0</td>\n",
       "      <td>0</td>\n",
       "      <td>0</td>\n",
       "      <td>1</td>\n",
       "      <td>1</td>\n",
       "      <td>0</td>\n",
       "      <td>0</td>\n",
       "    </tr>\n",
       "    <tr>\n",
       "      <th>1</th>\n",
       "      <td>63600</td>\n",
       "      <td>0</td>\n",
       "      <td>6</td>\n",
       "      <td>1318</td>\n",
       "      <td>0</td>\n",
       "      <td>0</td>\n",
       "      <td>1</td>\n",
       "      <td>1</td>\n",
       "      <td>1</td>\n",
       "      <td>0</td>\n",
       "      <td>0</td>\n",
       "      <td>0</td>\n",
       "    </tr>\n",
       "    <tr>\n",
       "      <th>2</th>\n",
       "      <td>13500</td>\n",
       "      <td>0</td>\n",
       "      <td>18</td>\n",
       "      <td>296</td>\n",
       "      <td>0</td>\n",
       "      <td>1</td>\n",
       "      <td>0</td>\n",
       "      <td>1</td>\n",
       "      <td>1</td>\n",
       "      <td>0</td>\n",
       "      <td>1</td>\n",
       "      <td>0</td>\n",
       "    </tr>\n",
       "    <tr>\n",
       "      <th>3</th>\n",
       "      <td>85600</td>\n",
       "      <td>1</td>\n",
       "      <td>18</td>\n",
       "      <td>2436</td>\n",
       "      <td>0</td>\n",
       "      <td>0</td>\n",
       "      <td>1</td>\n",
       "      <td>0</td>\n",
       "      <td>0</td>\n",
       "      <td>0</td>\n",
       "      <td>0</td>\n",
       "      <td>0</td>\n",
       "    </tr>\n",
       "    <tr>\n",
       "      <th>4</th>\n",
       "      <td>68400</td>\n",
       "      <td>0</td>\n",
       "      <td>12</td>\n",
       "      <td>1304</td>\n",
       "      <td>0</td>\n",
       "      <td>0</td>\n",
       "      <td>0</td>\n",
       "      <td>0</td>\n",
       "      <td>1</td>\n",
       "      <td>0</td>\n",
       "      <td>0</td>\n",
       "      <td>0</td>\n",
       "    </tr>\n",
       "  </tbody>\n",
       "</table>\n",
       "</div>"
      ],
      "text/plain": [
       "   Salary  Children  Catalogs  AmountSpent  Age_Old  Age_Young  Gender_Male  \\\n",
       "0   47500         0         6          755        1          0            0   \n",
       "1   63600         0         6         1318        0          0            1   \n",
       "2   13500         0        18          296        0          1            0   \n",
       "3   85600         1        18         2436        0          0            1   \n",
       "4   68400         0        12         1304        0          0            0   \n",
       "\n",
       "   OwnHome_Rent  Married_Single  Location_Far  History_Low  History_Medium  \n",
       "0             0               1             1            0               0  \n",
       "1             1               1             0            0               0  \n",
       "2             1               1             0            1               0  \n",
       "3             0               0             0            0               0  \n",
       "4             0               1             0            0               0  "
      ]
     },
     "execution_count": 118,
     "metadata": {},
     "output_type": "execute_result"
    }
   ],
   "source": [
    "marketing2.head()"
   ]
  },
  {
   "cell_type": "code",
   "execution_count": 148,
   "metadata": {},
   "outputs": [
    {
     "data": {
      "text/plain": [
       "Salary            0.699596\n",
       "Children         -0.222308\n",
       "Catalogs          0.472650\n",
       "AmountSpent       1.000000\n",
       "Age_Old           0.113845\n",
       "Age_Young        -0.434692\n",
       "Gender_Male       0.201690\n",
       "OwnHome_Rent     -0.350808\n",
       "Married_Single   -0.475880\n",
       "Location_Far      0.252616\n",
       "History_Low      -0.489125\n",
       "History_Medium   -0.143831\n",
       "Name: AmountSpent, dtype: float64"
      ]
     },
     "execution_count": 148,
     "metadata": {},
     "output_type": "execute_result"
    }
   ],
   "source": [
    "marketing2.corr()['AmountSpent']"
   ]
  },
  {
   "cell_type": "code",
   "execution_count": 119,
   "metadata": {},
   "outputs": [],
   "source": [
    "import matplotlib.pyplot as plt\n",
    "%matplotlib inline\n",
    "\n"
   ]
  },
  {
   "cell_type": "code",
   "execution_count": 160,
   "metadata": {},
   "outputs": [],
   "source": [
    "x = marketing2.Salary\n",
    "y = marketing2.AmountSpent"
   ]
  },
  {
   "cell_type": "code",
   "execution_count": 161,
   "metadata": {},
   "outputs": [
    {
     "data": {
      "image/png": "[encoded data removed]",
      "text/plain": [
       "<Figure size 432x288 with 1 Axes>"
      ]
     },
     "metadata": {
      "needs_background": "light"
     },
     "output_type": "display_data"
    }
   ],
   "source": [
    "plt.scatter(x,y, alpha =0.1)\n",
    "plt.xlabel(\"Salary\")\n",
    "plt.ylabel(\"AmountSpent\")\n",
    "plt.show()\n"
   ]
  },
  {
   "cell_type": "code",
   "execution_count": 162,
   "metadata": {},
   "outputs": [],
   "source": [
    "import statsmodels.formula.api as smf"
   ]
  },
  {
   "cell_type": "code",
   "execution_count": 195,
   "metadata": {},
   "outputs": [],
   "source": [
    "formula = 'AmountSpent ~ Salary +Catalogs + Children + Gender_Male'"
   ]
  },
  {
   "cell_type": "code",
   "execution_count": 196,
   "metadata": {},
   "outputs": [],
   "source": [
    "lin_reg = smf.ols(formula, marketing2)"
   ]
  },
  {
   "cell_type": "code",
   "execution_count": 197,
   "metadata": {},
   "outputs": [
    {
     "data": {
      "text/plain": [
       "statsmodels.regression.linear_model.OLS"
      ]
     },
     "execution_count": 197,
     "metadata": {},
     "output_type": "execute_result"
    }
   ],
   "source": [
    "type(lin_reg)"
   ]
  },
  {
   "cell_type": "code",
   "execution_count": 198,
   "metadata": {},
   "outputs": [],
   "source": [
    "results1 = lin_reg.fit()"
   ]
  },
  {
   "cell_type": "code",
   "execution_count": 199,
   "metadata": {},
   "outputs": [
    {
     "data": {
      "text/plain": [
       "statsmodels.regression.linear_model.RegressionResultsWrapper"
      ]
     },
     "execution_count": 199,
     "metadata": {},
     "output_type": "execute_result"
    }
   ],
   "source": [
    "type(results1)"
   ]
  },
  {
   "cell_type": "code",
   "execution_count": 200,
   "metadata": {},
   "outputs": [
    {
     "name": "stdout",
     "output_type": "stream",
     "text": [
      "Intercept     -431.240038\n",
      "Salary           0.020585\n",
      "Catalogs        47.777527\n",
      "Children      -200.990427\n",
      "Gender_Male    -41.748981\n",
      "dtype: float64\n"
     ]
    }
   ],
   "source": [
    "print(results1.params)"
   ]
  },
  {
   "cell_type": "code",
   "execution_count": 201,
   "metadata": {},
   "outputs": [],
   "source": [
    "new_spent = {'Salary': 50000,\n",
    "            'Children': 0,\n",
    "            'Catalogs':10,\n",
    "            'Gender_Male': 0}\n",
    "             \n",
    "             "
   ]
  },
  {
   "cell_type": "code",
   "execution_count": 202,
   "metadata": {},
   "outputs": [
    {
     "name": "stdout",
     "output_type": "stream",
     "text": [
      "0    1075.776908\n",
      "dtype: float64\n"
     ]
    }
   ],
   "source": [
    "print(results1.predict(new_spent))"
   ]
  },
  {
   "cell_type": "code",
   "execution_count": 203,
   "metadata": {},
   "outputs": [],
   "source": [
    "import numpy as np"
   ]
  },
  {
   "cell_type": "code",
   "execution_count": 204,
   "metadata": {},
   "outputs": [
    {
     "name": "stdout",
     "output_type": "stream",
     "text": [
      "10100\n"
     ]
    }
   ],
   "source": [
    "min_x = np.min(x)\n",
    "print(min_x)"
   ]
  },
  {
   "cell_type": "code",
   "execution_count": 205,
   "metadata": {},
   "outputs": [
    {
     "name": "stdout",
     "output_type": "stream",
     "text": [
      "168800\n"
     ]
    }
   ],
   "source": [
    "max_x = np.max(x)\n",
    "print(max_x)"
   ]
  },
  {
   "cell_type": "code",
   "execution_count": 212,
   "metadata": {},
   "outputs": [],
   "source": [
    "x_points = np.linspace(min_x,max_x,100)"
   ]
  },
  {
   "cell_type": "code",
   "execution_count": 207,
   "metadata": {},
   "outputs": [],
   "source": [
    "y_points = results1.params[0]+results1.params[1]*x_points"
   ]
  },
  {
   "cell_type": "code",
   "execution_count": 208,
   "metadata": {},
   "outputs": [
    {
     "name": "stdout",
     "output_type": "stream",
     "text": [
      "[-223.33321955 -190.33510773 -157.33699591 -124.33888409  -91.34077227\n",
      "  -58.34266045  -25.34454862    7.6535632    40.65167502   73.64978684\n",
      "  106.64789866  139.64601048  172.6441223   205.64223412  238.64034594\n",
      "  271.63845776  304.63656959  337.63468141  370.63279323  403.63090505\n",
      "  436.62901687  469.62712869  502.62524051  535.62335233  568.62146415\n",
      "  601.61957597  634.6176878   667.61579962  700.61391144  733.61202326\n",
      "  766.61013508  799.6082469   832.60635872  865.60447054  898.60258236\n",
      "  931.60069418  964.59880601  997.59691783 1030.59502965 1063.59314147\n",
      " 1096.59125329 1129.58936511 1162.58747693 1195.58558875 1228.58370057\n",
      " 1261.58181239 1294.57992421 1327.57803604 1360.57614786 1393.57425968\n",
      " 1426.5723715  1459.57048332 1492.56859514 1525.56670696 1558.56481878\n",
      " 1591.5629306  1624.56104242 1657.55915425 1690.55726607 1723.55537789\n",
      " 1756.55348971 1789.55160153 1822.54971335 1855.54782517 1888.54593699\n",
      " 1921.54404881 1954.54216063 1987.54027246 2020.53838428 2053.5364961\n",
      " 2086.53460792 2119.53271974 2152.53083156 2185.52894338 2218.5270552\n",
      " 2251.52516702 2284.52327884 2317.52139067 2350.51950249 2383.51761431\n",
      " 2416.51572613 2449.51383795 2482.51194977 2515.51006159 2548.50817341\n",
      " 2581.50628523 2614.50439705 2647.50250887 2680.5006207  2713.49873252\n",
      " 2746.49684434 2779.49495616 2812.49306798 2845.4911798  2878.48929162\n",
      " 2911.48740344 2944.48551526 2977.48362708 3010.48173891 3043.47985073]\n"
     ]
    }
   ],
   "source": [
    "print(y_points)"
   ]
  },
  {
   "cell_type": "code",
   "execution_count": 209,
   "metadata": {},
   "outputs": [
    {
     "data": {
      "image/png": "[encoded data removed]",
      "text/plain": [
       "<Figure size 432x288 with 1 Axes>"
      ]
     },
     "metadata": {
      "needs_background": "light"
     },
     "output_type": "display_data"
    }
   ],
   "source": [
    "plt.scatter(x,y, alpha =0.1)\n",
    "plt.plot(x_points, y_points,color = 'red')\n",
    "plt.xlabel(\"SQFT\")\n",
    "plt.ylabel(\"Price\")\n",
    "plt.show()"
   ]
  },
  {
   "cell_type": "code",
   "execution_count": 211,
   "metadata": {},
   "outputs": [
    {
     "data": {
      "text/html": [
       "<table class=\"simpletable\">\n",
       "<caption>OLS Regression Results</caption>\n",
       "<tr>\n",
       "  <th>Dep. Variable:</th>       <td>AmountSpent</td>   <th>  R-squared:         </th> <td>   0.659</td> \n",
       "</tr>\n",
       "<tr>\n",
       "  <th>Model:</th>                   <td>OLS</td>       <th>  Adj. R-squared:    </th> <td>   0.657</td> \n",
       "</tr>\n",
       "<tr>\n",
       "  <th>Method:</th>             <td>Least Squares</td>  <th>  F-statistic:       </th> <td>   480.4</td> \n",
       "</tr>\n",
       "<tr>\n",
       "  <th>Date:</th>             <td>Fri, 05 Apr 2019</td> <th>  Prob (F-statistic):</th> <td>1.40e-230</td>\n",
       "</tr>\n",
       "<tr>\n",
       "  <th>Time:</th>                 <td>15:14:12</td>     <th>  Log-Likelihood:    </th> <td> -7748.7</td> \n",
       "</tr>\n",
       "<tr>\n",
       "  <th>No. Observations:</th>      <td>  1000</td>      <th>  AIC:               </th> <td>1.551e+04</td>\n",
       "</tr>\n",
       "<tr>\n",
       "  <th>Df Residuals:</th>          <td>   995</td>      <th>  BIC:               </th> <td>1.553e+04</td>\n",
       "</tr>\n",
       "<tr>\n",
       "  <th>Df Model:</th>              <td>     4</td>      <th>                     </th>     <td> </td>    \n",
       "</tr>\n",
       "<tr>\n",
       "  <th>Covariance Type:</th>      <td>nonrobust</td>    <th>                     </th>     <td> </td>    \n",
       "</tr>\n",
       "</table>\n",
       "<table class=\"simpletable\">\n",
       "<tr>\n",
       "       <td></td>          <th>coef</th>     <th>std err</th>      <th>t</th>      <th>P>|t|</th>  <th>[0.025</th>    <th>0.975]</th>  \n",
       "</tr>\n",
       "<tr>\n",
       "  <th>Intercept</th>   <td> -431.2400</td> <td>   54.680</td> <td>   -7.887</td> <td> 0.000</td> <td> -538.541</td> <td> -323.939</td>\n",
       "</tr>\n",
       "<tr>\n",
       "  <th>Salary</th>      <td>    0.0206</td> <td>    0.001</td> <td>   33.534</td> <td> 0.000</td> <td>    0.019</td> <td>    0.022</td>\n",
       "</tr>\n",
       "<tr>\n",
       "  <th>Catalogs</th>    <td>   47.7775</td> <td>    2.756</td> <td>   17.337</td> <td> 0.000</td> <td>   42.370</td> <td>   53.186</td>\n",
       "</tr>\n",
       "<tr>\n",
       "  <th>Children</th>    <td> -200.9904</td> <td>   17.207</td> <td>  -11.681</td> <td> 0.000</td> <td> -234.756</td> <td> -167.224</td>\n",
       "</tr>\n",
       "<tr>\n",
       "  <th>Gender_Male</th> <td>  -41.7490</td> <td>   37.152</td> <td>   -1.124</td> <td> 0.261</td> <td> -114.655</td> <td>   31.157</td>\n",
       "</tr>\n",
       "</table>\n",
       "<table class=\"simpletable\">\n",
       "<tr>\n",
       "  <th>Omnibus:</th>       <td>257.549</td> <th>  Durbin-Watson:     </th> <td>   1.983</td> \n",
       "</tr>\n",
       "<tr>\n",
       "  <th>Prob(Omnibus):</th> <td> 0.000</td>  <th>  Jarque-Bera (JB):  </th> <td> 995.294</td> \n",
       "</tr>\n",
       "<tr>\n",
       "  <th>Skew:</th>          <td> 1.180</td>  <th>  Prob(JB):          </th> <td>7.49e-217</td>\n",
       "</tr>\n",
       "<tr>\n",
       "  <th>Kurtosis:</th>      <td> 7.279</td>  <th>  Cond. No.          </th> <td>2.01e+05</td> \n",
       "</tr>\n",
       "</table><br/><br/>Warnings:<br/>[1] Standard Errors assume that the covariance matrix of the errors is correctly specified.<br/>[2] The condition number is large, 2.01e+05. This might indicate that there are<br/>strong multicollinearity or other numerical problems."
      ],
      "text/plain": [
       "<class 'statsmodels.iolib.summary.Summary'>\n",
       "\"\"\"\n",
       "                            OLS Regression Results                            \n",
       "==============================================================================\n",
       "Dep. Variable:            AmountSpent   R-squared:                       0.659\n",
       "Model:                            OLS   Adj. R-squared:                  0.657\n",
       "Method:                 Least Squares   F-statistic:                     480.4\n",
       "Date:                Fri, 05 Apr 2019   Prob (F-statistic):          1.40e-230\n",
       "Time:                        15:14:12   Log-Likelihood:                -7748.7\n",
       "No. Observations:                1000   AIC:                         1.551e+04\n",
       "Df Residuals:                     995   BIC:                         1.553e+04\n",
       "Df Model:                           4                                         \n",
       "Covariance Type:            nonrobust                                         \n",
       "===============================================================================\n",
       "                  coef    std err          t      P>|t|      [0.025      0.975]\n",
       "-------------------------------------------------------------------------------\n",
       "Intercept    -431.2400     54.680     -7.887      0.000    -538.541    -323.939\n",
       "Salary          0.0206      0.001     33.534      0.000       0.019       0.022\n",
       "Catalogs       47.7775      2.756     17.337      0.000      42.370      53.186\n",
       "Children     -200.9904     17.207    -11.681      0.000    -234.756    -167.224\n",
       "Gender_Male   -41.7490     37.152     -1.124      0.261    -114.655      31.157\n",
       "==============================================================================\n",
       "Omnibus:                      257.549   Durbin-Watson:                   1.983\n",
       "Prob(Omnibus):                  0.000   Jarque-Bera (JB):              995.294\n",
       "Skew:                           1.180   Prob(JB):                    7.49e-217\n",
       "Kurtosis:                       7.279   Cond. No.                     2.01e+05\n",
       "==============================================================================\n",
       "\n",
       "Warnings:\n",
       "[1] Standard Errors assume that the covariance matrix of the errors is correctly specified.\n",
       "[2] The condition number is large, 2.01e+05. This might indicate that there are\n",
       "strong multicollinearity or other numerical problems.\n",
       "\"\"\""
      ]
     },
     "execution_count": 211,
     "metadata": {},
     "output_type": "execute_result"
    }
   ],
   "source": [
    "results1.summary()"
   ]
  },
  {
   "cell_type": "code",
   "execution_count": null,
   "metadata": {},
   "outputs": [],
   "source": []
  },
  {
   "cell_type": "code",
   "execution_count": null,
   "metadata": {},
   "outputs": [],
   "source": []
  }
 ],
 "metadata": {
  "kernelspec": {
   "display_name": "Python 3",
   "language": "python",
   "name": "python3"
  },
  "language_info": {
   "codemirror_mode": {
    "name": "ipython",
    "version": 3
   },
   "file_extension": ".py",
   "mimetype": "text/x-python",
   "name": "python",
   "nbconvert_exporter": "python",
   "pygments_lexer": "ipython3",
   "version": "3.6.8"
  }
 },
 "nbformat": 4,
 "nbformat_minor": 2
}
